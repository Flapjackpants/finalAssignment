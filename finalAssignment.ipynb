{
  "metadata": {
    "kernelspec": {
      "name": "python",
      "display_name": "Pyolite",
      "language": "python"
    },
    "language_info": {
      "codemirror_mode": {
        "name": "python",
        "version": 3
      },
      "file_extension": ".py",
      "mimetype": "text/x-python",
      "name": "python",
      "nbconvert_exporter": "python",
      "pygments_lexer": "ipython3",
      "version": "3.8"
    }
  },
  "nbformat_minor": 4,
  "nbformat": 4,
  "cells": [
    {
      "cell_type": "markdown",
      "source": "My Jupyter Notebook on IBM Watson Studio",
      "metadata": {}
    },
    {
      "cell_type": "markdown",
      "source": "**Maxwell K. Li**\nSoftware Engineer",
      "metadata": {}
    },
    {
      "cell_type": "markdown",
      "source": "*I am interested in data science because it will play an increasingly critical role in the new digital economy and knowlege of how it works and the tools to best use and understand it will be very valuable.*",
      "metadata": {}
    },
    {
      "cell_type": "markdown",
      "source": "### The code below prints \"Hello World!\" to the console.",
      "metadata": {}
    },
    {
      "cell_type": "code",
      "source": "print(\"Hello World!\")",
      "metadata": {
        "trusted": true
      },
      "execution_count": 1,
      "outputs": [
        {
          "name": "stdout",
          "text": "Hello World!\n",
          "output_type": "stream"
        }
      ]
    },
    {
      "cell_type": "markdown",
      "source": "- I am fifteen years old.\n- I learned Python when I was eight.\n- My goals for the new year:",
      "metadata": {}
    },
    {
      "cell_type": "markdown",
      "source": "1. Be much more active in my school's robotics team and apply for Electrical Group Lead.\n2. Start going to the gym regularly again.\n3. Pass my AP exams and get As in my classes.",
      "metadata": {}
    },
    {
      "cell_type": "markdown",
      "source": "[Check out my piano youtube channel!](https://www.youtube.com/channel/UCT72tvgVejclgBEB-ZRtq-w)",
      "metadata": {}
    },
    {
      "cell_type": "code",
      "source": "",
      "metadata": {},
      "execution_count": null,
      "outputs": []
    }
  ]
}